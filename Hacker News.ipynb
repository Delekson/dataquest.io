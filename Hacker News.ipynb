{
 "cells": [
  {
   "cell_type": "markdown",
   "metadata": {
    "collapsed": true
   },
   "source": [
    "# Optimising social media post interaction - Hacker News\n",
    "Hacker News is a user-submission site similar to reddit where posts can be voted and commented on.\n",
    "\n",
    "|Index|Variable name | Description|\n",
    "|:---|---|---:|\n",
    "|`0`|`id` | unique identifier for post|\n",
    "|`1`|`title`|title of post|\n",
    "|`2`|`url`|url link for post|\n",
    "|`3`|`num_points`|number of points aquired by post|\n",
    "|`4`|`num_comments`| number of comments on the post|\n",
    "|`5`|`author`|username of person who submitted the post|\n",
    "|`6`|`created_at`|date and time post was posted (Eastern Standard Time -5 hours)|\n",
    "\n",
    "The assignment is particularly interest in posts with `Ask HN` and `Show HN` as a tag to determine some insight.\n",
    "\n",
    "## More about the data:\n",
    "The data comes from the following link on [Kaggle](https://www.kaggle.com/hacker-news/hacker-news-posts).\n",
    "\n",
    "The data is obtained using a scraper on Hacker News and has data on posts for the previous year (up until 26th September 2016).\n",
    "\n",
    "## Goals of the project:\n",
    "I want to find someone insight into what kind of posts has the most interaction form users of the social media site, Hacker News.\n",
    "\n",
    "As a proxy of interaction I will use two different variables: number of comments and number of points.\n",
    "\n",
    "My main conclusion I reached using this dataset is that on average \"Ask\" posts generate more comments than \"Show\" posts. \n",
    "\n",
    "For \"Ask\" posts, the optimal time to post would be around 3pm as this generates on average the most comments and points.\n",
    "\n",
    "## Evaluation\n",
    "I think I could have fared better if I had implemented functions rather than typing the code out in full. \n",
    "\n",
    "It would have been better in terms of memory management as well due to writing the code out seperate lead to many redundant variables.\n",
    "\n",
    "The code I used for each post type was reusable and would have been less complex than doing each one seperately.\n",
    "\n",
    "Another thing I would have changed is disaggregated the other posts further as both ask and show posts only consist of around 15% of the dataset."
   ]
  },
  {
   "cell_type": "code",
   "execution_count": 1,
   "metadata": {},
   "outputs": [
    {
     "name": "stdout",
     "output_type": "stream",
     "text": [
      "['12224879', 'Interactive Dynamic Video', 'http://www.interactivedynamicvideo.com/', '386', '52', 'ne0phyte', '8/4/2016 11:52']\n",
      "\n",
      "['10975351', 'How to Use Open Source and Shut the Fuck Up at the Same Time', 'http://hueniverse.com/2016/01/26/how-to-use-open-source-and-shut-the-fuck-up-at-the-same-time/', '39', '10', 'josep2', '1/26/2016 19:30']\n",
      "\n",
      "['11964716', \"Florida DJs May Face Felony for April Fools' Water Joke\", 'http://www.thewire.com/entertainment/2013/04/florida-djs-april-fools-water-joke/63798/', '2', '1', 'vezycash', '6/23/2016 22:20']\n",
      "\n",
      "['11919867', 'Technology ventures: From Idea to Enterprise', 'https://www.amazon.com/Technology-Ventures-Enterprise-Thomas-Byers/dp/0073523429', '3', '1', 'hswarna', '6/17/2016 0:01']\n",
      "\n",
      "['10301696', 'Note by Note: The Making of Steinway L1037 (2007)', 'http://www.nytimes.com/2007/11/07/movies/07stein.html?_r=0', '8', '2', 'walterbell', '9/30/2015 4:12']\n",
      "\n"
     ]
    }
   ],
   "source": [
    "from csv import reader\n",
    "open_file = open('hacker_news.csv')\n",
    "read_file = reader(open_file)\n",
    "hn = list(read_file)\n",
    "hn_header = hn[0]\n",
    "hn = hn[1:]\n",
    "\n",
    "for i in hn[0:5]:\n",
    "    print(i)\n",
    "    print('')"
   ]
  },
  {
   "cell_type": "markdown",
   "metadata": {},
   "source": [
    "### Filtering out the \"Ask\" and \"Show\" posts\n",
    "Now we need to filter out the posts which are `Ask HN` and `Show HN`"
   ]
  },
  {
   "cell_type": "code",
   "execution_count": 2,
   "metadata": {},
   "outputs": [],
   "source": [
    "ask_posts = []\n",
    "show_posts = []\n",
    "other_posts = []\n",
    "\n",
    "for i in hn:\n",
    "    title = i[1]\n",
    "    if title.lower().startswith('ask hn'):\n",
    "        ask_posts.append(i)\n",
    "    elif title.lower().startswith('show hn'):\n",
    "        show_posts.append(i)\n",
    "    else:\n",
    "        other_posts.append(i)"
   ]
  },
  {
   "cell_type": "code",
   "execution_count": 3,
   "metadata": {},
   "outputs": [
    {
     "name": "stdout",
     "output_type": "stream",
     "text": [
      "There are 1,744 \"Ask\" posts\n",
      "There are 1,162 \"Show\" posts\n",
      "There are 17,194 \"Other\" posts\n"
     ]
    }
   ],
   "source": [
    "len_ask = len(ask_posts)\n",
    "len_show = len(show_posts)\n",
    "len_other = len(other_posts)\n",
    "\n",
    "print(\"There are {:,} \\\"Ask\\\" posts\".format(len_ask))\n",
    "print(\"There are {:,} \\\"Show\\\" posts\".format(len_show))\n",
    "print(\"There are {:,} \\\"Other\\\" posts\".format(len_other))"
   ]
  },
  {
   "cell_type": "markdown",
   "metadata": {},
   "source": [
    "### Check for failure in filtration\n",
    "Inspecting `other_posts` for any posts we may have missed due to not following the Hacker News post guidelines"
   ]
  },
  {
   "cell_type": "code",
   "execution_count": 4,
   "metadata": {},
   "outputs": [
    {
     "name": "stdout",
     "output_type": "stream",
     "text": [
      "['10758328', \"Idea: on the Show page, remove 'Show HN' from the titles\", '', '7', '9', 'joelanman', '12/18/2015 13:39']\n",
      "['11216184', 'Tell HN: Get your app classified before Show HN', '', '12', '1', 'gadders', '3/3/2016 11:26']\n",
      "['12301483', 'Tell/ask HN: vimtutor teaches vim basics. Is there something similar for Emacs?', '', '8', '2', 'mettamage', '8/16/2016 23:41']\n",
      "['11274792', 'Our 36 Hours on Show HN', 'https://medium.com/@justinlaing/our-36-hours-on-show-hn-34d47b6b56ee#.k9a8i7pt4', '5', '4', 'justinlaing', '3/12/2016 21:57']\n"
     ]
    }
   ],
   "source": [
    "for i in other_posts:\n",
    "    title = i[1].lower()\n",
    "    if 'show hn' in title:\n",
    "        print(i)\n",
    "    if 'ask hn' in title:\n",
    "        print(i)    "
   ]
  },
  {
   "cell_type": "markdown",
   "metadata": {},
   "source": [
    "Inspecting `other_posts`, the remaining titles with `Show HN` and `Ask HN` seem to be posts that are about the two tags so are not relevant"
   ]
  },
  {
   "cell_type": "markdown",
   "metadata": {},
   "source": [
    "# Comments\n",
    "## Which type of post on average performs better?"
   ]
  },
  {
   "cell_type": "code",
   "execution_count": 5,
   "metadata": {},
   "outputs": [
    {
     "name": "stdout",
     "output_type": "stream",
     "text": [
      "Average number of ask comments is 14.04\n",
      "Average number of show comments is 10.32\n",
      "Average number of other comments is 26.87\n"
     ]
    }
   ],
   "source": [
    "total_ask_comments = 0\n",
    "for i in ask_posts:\n",
    "    num_comments_ask = int(i[4])\n",
    "    total_ask_comments += num_comments_ask\n",
    "\n",
    "avg_ask_comments = total_ask_comments/(len(ask_posts))\n",
    "print('Average number of ask comments is {:.2f}'.format(avg_ask_comments))\n",
    "\n",
    "total_show_comments = 0\n",
    "for i in show_posts:\n",
    "    num_comments_show = int(i[4])\n",
    "    total_show_comments += num_comments_show\n",
    "\n",
    "avg_show_comments = total_show_comments/(len(show_posts))\n",
    "print('Average number of show comments is {:.2f}'.format(avg_show_comments))\n",
    "\n",
    "total_other_comments = 0\n",
    "for i in other_posts:\n",
    "    num_comments_other = int(i[4])\n",
    "    total_other_comments += num_comments_other\n",
    "\n",
    "avg_other_comments = total_other_comments/(len(other_posts))\n",
    "print('Average number of other comments is {:.2f}'.format(avg_other_comments))"
   ]
  },
  {
   "cell_type": "markdown",
   "metadata": {},
   "source": [
    "### Insight\n",
    "On average ask posts tend to receive more comments from users compared to show posts.\n",
    "\n",
    "This implies users interact (in the form of comments) more often to posts where the original poster is asking for help of some sort.\n",
    "\n",
    "This might be due to the fact that show posts may include memes and other short clips where users may not have much to say to whereas in ask posts, the user is directly asking for other users input.\n",
    "\n",
    "Other posts has a very large average number of comments. This is possibly due to the fact that this category is a mix of other type of posts are not included in this analysis. There might be a more popular category amongst the other post which skews the average upwards."
   ]
  },
  {
   "cell_type": "markdown",
   "metadata": {},
   "source": [
    "## Does time of posting affect comments?\n",
    "Now we want to analyse whether time of post may affect the number of comments a post receives\n",
    "\n",
    "### Forming frequency tables\n",
    "### Ask posts\n",
    "We form two different frequency tables: one for the number of posts at each hour and another for the number of comments at each hour"
   ]
  },
  {
   "cell_type": "code",
   "execution_count": 6,
   "metadata": {},
   "outputs": [
    {
     "name": "stdout",
     "output_type": "stream",
     "text": [
      "Posts by the hour for ask posts\n",
      "{'09:00': 45, '13:00': 85, '10:00': 59, '14:00': 107, '16:00': 108, '23:00': 68, '12:00': 73, '17:00': 100, '15:00': 116, '21:00': 109, '20:00': 80, '02:00': 58, '18:00': 109, '03:00': 54, '05:00': 46, '19:00': 110, '01:00': 60, '22:00': 71, '08:00': 48, '04:00': 47, '00:00': 55, '06:00': 44, '07:00': 34, '11:00': 58}\n",
      "\n",
      "Comments by the hour for ask posts\n",
      "{'09:00': 251, '13:00': 1253, '10:00': 793, '14:00': 1416, '16:00': 1814, '23:00': 543, '12:00': 687, '17:00': 1146, '15:00': 4477, '21:00': 1745, '20:00': 1722, '02:00': 1381, '18:00': 1439, '03:00': 421, '05:00': 464, '19:00': 1188, '01:00': 683, '22:00': 479, '08:00': 492, '04:00': 337, '00:00': 447, '06:00': 397, '07:00': 267, '11:00': 641}\n"
     ]
    }
   ],
   "source": [
    "import datetime as dt\n",
    "from datetime import *\n",
    "\n",
    "result_list_ask = []\n",
    "for i in ask_posts:\n",
    "    created_at_ask = i[6]\n",
    "    num_comments_ask = i[4]\n",
    "    result_list_ask.append([created_at_ask, num_comments_ask])\n",
    "\n",
    "counts_by_hour_ask = {}\n",
    "comments_by_hour_ask = {}\n",
    "\n",
    "for i in result_list_ask:\n",
    "    created_at_ask_1 = i[0]\n",
    "    num_comments_ask_1 = int(i[1])\n",
    "    created_at_ask_1 = dt.datetime.strptime(created_at_ask_1, \"%m/%d/%Y %H:%M\")\n",
    "    ask_hour = dt.datetime.strftime(created_at_ask_1, \"%H:00\")\n",
    "    if ask_hour in counts_by_hour_ask:\n",
    "        counts_by_hour_ask[ask_hour] += 1\n",
    "        comments_by_hour_ask[ask_hour] += num_comments_ask_1\n",
    "    else:\n",
    "        counts_by_hour_ask[ask_hour] = 1\n",
    "        comments_by_hour_ask[ask_hour] = num_comments_ask_1\n",
    "        \n",
    "print('Posts by the hour for ask posts')\n",
    "print(counts_by_hour_ask)\n",
    "print('')\n",
    "print('Comments by the hour for ask posts')\n",
    "print(comments_by_hour_ask)"
   ]
  },
  {
   "cell_type": "markdown",
   "metadata": {},
   "source": [
    "### Show posts"
   ]
  },
  {
   "cell_type": "code",
   "execution_count": 7,
   "metadata": {},
   "outputs": [
    {
     "name": "stdout",
     "output_type": "stream",
     "text": [
      "Posts by the hour for show posts\n",
      "{'14:00': 86, '22:00': 46, '18:00': 61, '07:00': 26, '20:00': 60, '05:00': 19, '16:00': 93, '19:00': 55, '15:00': 78, '03:00': 27, '17:00': 93, '06:00': 16, '02:00': 30, '13:00': 99, '08:00': 34, '21:00': 47, '04:00': 26, '11:00': 44, '12:00': 61, '23:00': 36, '09:00': 30, '01:00': 28, '10:00': 36, '00:00': 31}\n",
      "\n",
      "Comments by the hour for show posts\n",
      "{'14:00': 1156, '22:00': 570, '18:00': 962, '07:00': 299, '20:00': 612, '05:00': 58, '16:00': 1084, '19:00': 539, '15:00': 632, '03:00': 287, '17:00': 911, '06:00': 142, '02:00': 127, '13:00': 946, '08:00': 165, '21:00': 272, '04:00': 247, '11:00': 491, '12:00': 720, '23:00': 447, '09:00': 291, '01:00': 246, '10:00': 297, '00:00': 487}\n"
     ]
    }
   ],
   "source": [
    "result_list_show = []\n",
    "for i in show_posts:\n",
    "    created_at_show = i[6]\n",
    "    num_comments_show = i[4]\n",
    "    result_list_show.append([created_at_show, num_comments_show])\n",
    "\n",
    "counts_by_hour_show = {}\n",
    "comments_by_hour_show = {}\n",
    "\n",
    "for i in result_list_show:\n",
    "    created_at_show_1 = i[0]\n",
    "    num_comments_show_1 = int(i[1])\n",
    "    created_at_show_1 = dt.datetime.strptime(created_at_show_1, \"%m/%d/%Y %H:%M\")\n",
    "    show_hour = dt.datetime.strftime(created_at_show_1, \"%H:00\")\n",
    "    if show_hour in counts_by_hour_show:\n",
    "        counts_by_hour_show[show_hour] += 1\n",
    "        comments_by_hour_show[show_hour] += num_comments_show_1\n",
    "    else:\n",
    "        counts_by_hour_show[show_hour] = 1\n",
    "        comments_by_hour_show[show_hour] = num_comments_show_1\n",
    "        \n",
    "print('Posts by the hour for show posts')\n",
    "print(counts_by_hour_show)\n",
    "print('')\n",
    "print('Comments by the hour for show posts')\n",
    "print(comments_by_hour_show)"
   ]
  },
  {
   "cell_type": "markdown",
   "metadata": {},
   "source": [
    "### Other posts"
   ]
  },
  {
   "cell_type": "code",
   "execution_count": 8,
   "metadata": {},
   "outputs": [
    {
     "name": "stdout",
     "output_type": "stream",
     "text": [
      "Posts by the hour for show posts\n",
      "{'11:00': 660, '19:00': 980, '22:00': 758, '00:00': 611, '04:00': 454, '09:00': 534, '16:00': 1101, '18:00': 1084, '10:00': 591, '12:00': 789, '20:00': 911, '03:00': 407, '17:00': 1169, '14:00': 958, '13:00': 918, '01:00': 500, '23:00': 674, '08:00': 496, '02:00': 441, '21:00': 874, '15:00': 1040, '06:00': 408, '05:00': 388, '07:00': 448}\n",
      "\n",
      "Comments by the hour for show posts\n",
      "{'11:00': 19532, '19:00': 26167, '22:00': 17635, '00:00': 16544, '04:00': 10953, '09:00': 14732, '16:00': 27959, '18:00': 29186, '10:00': 15728, '12:00': 23944, '20:00': 21080, '03:00': 10918, '17:00': 32727, '14:00': 30973, '13:00': 28363, '01:00': 11536, '23:00': 16592, '08:00': 13405, '02:00': 12254, '21:00': 20635, '15:00': 30700, '06:00': 8714, '05:00': 9768, '07:00': 12010}\n"
     ]
    }
   ],
   "source": [
    "result_list_other = []\n",
    "for i in other_posts:\n",
    "    created_at_other = i[6]\n",
    "    num_comments_other = i[4]\n",
    "    result_list_other.append([created_at_other, num_comments_other])\n",
    "\n",
    "counts_by_hour_other = {}\n",
    "comments_by_hour_other = {}\n",
    "\n",
    "for i in result_list_other:\n",
    "    created_at_other_1 = i[0]\n",
    "    num_comments_other_1 = int(i[1])\n",
    "    created_at_other_1 = dt.datetime.strptime(created_at_other_1, \"%m/%d/%Y %H:%M\")\n",
    "    other_hour = dt.datetime.strftime(created_at_other_1, \"%H:00\")\n",
    "    if other_hour in counts_by_hour_other:\n",
    "        counts_by_hour_other[other_hour] += 1\n",
    "        comments_by_hour_other[other_hour] += num_comments_other_1\n",
    "    else:\n",
    "        counts_by_hour_other[other_hour] = 1\n",
    "        comments_by_hour_other[other_hour] = num_comments_other_1\n",
    "        \n",
    "print('Posts by the hour for show posts')\n",
    "print(counts_by_hour_other)\n",
    "print('')\n",
    "print('Comments by the hour for show posts')\n",
    "print(comments_by_hour_other)"
   ]
  },
  {
   "cell_type": "markdown",
   "metadata": {},
   "source": [
    "### Average comment per post by the hour\n",
    "Using the above two frequency tables, I am going to calculate the average comments per post split up by hour posted\n",
    "\n",
    "### Ask posts"
   ]
  },
  {
   "cell_type": "code",
   "execution_count": 9,
   "metadata": {},
   "outputs": [
    {
     "name": "stdout",
     "output_type": "stream",
     "text": [
      "[['09:00', 5.5777777777777775], ['13:00', 14.741176470588234], ['10:00', 13.440677966101696], ['14:00', 13.233644859813085], ['16:00', 16.796296296296298], ['23:00', 7.985294117647059], ['12:00', 9.41095890410959], ['17:00', 11.46], ['15:00', 38.5948275862069], ['21:00', 16.009174311926607], ['20:00', 21.525], ['02:00', 23.810344827586206], ['18:00', 13.20183486238532], ['03:00', 7.796296296296297], ['05:00', 10.08695652173913], ['19:00', 10.8], ['01:00', 11.383333333333333], ['22:00', 6.746478873239437], ['08:00', 10.25], ['04:00', 7.170212765957447], ['00:00', 8.127272727272727], ['06:00', 9.022727272727273], ['07:00', 7.852941176470588], ['11:00', 11.051724137931034]]\n"
     ]
    }
   ],
   "source": [
    "avg_com_per_post_ask = []\n",
    "for i in comments_by_hour_ask:\n",
    "    num_comments_ask_2 = comments_by_hour_ask[i]\n",
    "    num_posts_ask = counts_by_hour_ask[i]\n",
    "    avg_comments_per_post_ask = num_comments_ask_2/num_posts_ask\n",
    "    avg_com_per_post_ask.append([i, avg_comments_per_post_ask])\n",
    "print(avg_com_per_post_ask)"
   ]
  },
  {
   "cell_type": "markdown",
   "metadata": {},
   "source": [
    "### Show posts"
   ]
  },
  {
   "cell_type": "code",
   "execution_count": 10,
   "metadata": {},
   "outputs": [
    {
     "name": "stdout",
     "output_type": "stream",
     "text": [
      "[['14:00', 13.44186046511628], ['22:00', 12.391304347826088], ['18:00', 15.770491803278688], ['07:00', 11.5], ['20:00', 10.2], ['05:00', 3.0526315789473686], ['16:00', 11.655913978494624], ['19:00', 9.8], ['15:00', 8.102564102564102], ['03:00', 10.62962962962963], ['17:00', 9.795698924731182], ['06:00', 8.875], ['02:00', 4.233333333333333], ['13:00', 9.555555555555555], ['08:00', 4.852941176470588], ['21:00', 5.787234042553192], ['04:00', 9.5], ['11:00', 11.159090909090908], ['12:00', 11.80327868852459], ['23:00', 12.416666666666666], ['09:00', 9.7], ['01:00', 8.785714285714286], ['10:00', 8.25], ['00:00', 15.709677419354838]]\n"
     ]
    }
   ],
   "source": [
    "avg_com_per_post_show = []\n",
    "for i in comments_by_hour_show:\n",
    "    num_comments_show_2 = comments_by_hour_show[i]\n",
    "    num_posts_show = counts_by_hour_show[i]\n",
    "    avg_comments_per_post_show = num_comments_show_2/num_posts_show\n",
    "    avg_com_per_post_show.append([i, avg_comments_per_post_show])\n",
    "print(avg_com_per_post_show)"
   ]
  },
  {
   "cell_type": "markdown",
   "metadata": {},
   "source": [
    "### Other posts"
   ]
  },
  {
   "cell_type": "code",
   "execution_count": 11,
   "metadata": {},
   "outputs": [
    {
     "name": "stdout",
     "output_type": "stream",
     "text": [
      "[['11:00', 29.593939393939394], ['19:00', 26.701020408163266], ['22:00', 23.265171503957784], ['00:00', 27.076923076923077], ['04:00', 24.125550660792953], ['09:00', 27.588014981273407], ['16:00', 25.394187102633968], ['18:00', 26.924354243542435], ['10:00', 26.612521150592215], ['12:00', 30.34727503168568], ['20:00', 23.13940724478595], ['03:00', 26.825552825552826], ['17:00', 27.99572284003422], ['14:00', 32.33089770354906], ['13:00', 30.896514161220043], ['01:00', 23.072], ['23:00', 24.617210682492583], ['08:00', 27.026209677419356], ['02:00', 27.786848072562357], ['21:00', 23.60983981693364], ['15:00', 29.51923076923077], ['06:00', 21.357843137254903], ['05:00', 25.175257731958762], ['07:00', 26.808035714285715]]\n"
     ]
    }
   ],
   "source": [
    "avg_com_per_post_other = []\n",
    "for i in comments_by_hour_other:\n",
    "    num_comments_other_2 = comments_by_hour_other[i]\n",
    "    num_posts_other = counts_by_hour_other[i]\n",
    "    avg_comments_per_post_other = num_comments_other_2/num_posts_other\n",
    "    avg_com_per_post_other.append([i, avg_comments_per_post_other])\n",
    "print(avg_com_per_post_other)"
   ]
  },
  {
   "cell_type": "markdown",
   "metadata": {},
   "source": [
    "### Top 5 \n",
    "Here I will clean up the output shown above and present the top 5 times that on average achieve the most comments"
   ]
  },
  {
   "cell_type": "code",
   "execution_count": 12,
   "metadata": {},
   "outputs": [
    {
     "name": "stdout",
     "output_type": "stream",
     "text": [
      "\n",
      "Ask posts - Top 5 times to post are:\n",
      "[['38.59', '15:00'], ['23.81', '02:00'], ['21.52', '20:00'], ['16.80', '16:00'], ['16.01', '21:00']]\n",
      "\n",
      "Show posts - Top 5 times to post are:\n",
      "[['15.77', '18:00'], ['15.71', '00:00'], ['13.44', '14:00'], ['12.42', '23:00'], ['12.39', '22:00']]\n",
      "\n",
      "Other posts - Top 5 times to post are:\n",
      "[['32.33', '14:00'], ['30.90', '13:00'], ['30.35', '12:00'], ['29.59', '11:00'], ['29.52', '15:00']]\n"
     ]
    }
   ],
   "source": [
    "swap_avg_by_hour_ask = []\n",
    "for i in avg_com_per_post_ask:  \n",
    "    swap_avg_by_hour_ask.append([i[1],i[0]])\n",
    "swap_avg_by_hour_ask.sort(reverse = True)\n",
    "for i in swap_avg_by_hour_ask:\n",
    "    avg_comments_per_post_ask_1 = i[0]\n",
    "    avg_comments_per_post_ask = \"{:.2f}\".format(avg_comments_per_post_ask_1)\n",
    "    i[0] = avg_comments_per_post_ask\n",
    "print('')\n",
    "print('Ask posts - Top 5 times to post are:')\n",
    "print(swap_avg_by_hour_ask[0:5])\n",
    "\n",
    "swap_avg_by_hour_show = []\n",
    "for i in avg_com_per_post_show:  \n",
    "    swap_avg_by_hour_show.append([i[1],i[0]])\n",
    "swap_avg_by_hour_show.sort(reverse = True)\n",
    "for i in swap_avg_by_hour_show:\n",
    "    avg_comments_per_post_show_1 = i[0]\n",
    "    avg_comments_per_post_show = \"{:.2f}\".format(avg_comments_per_post_show_1)\n",
    "    i[0] = avg_comments_per_post_show\n",
    "print('')\n",
    "print('Show posts - Top 5 times to post are:')\n",
    "print(swap_avg_by_hour_show[0:5])\n",
    "\n",
    "swap_avg_by_hour_other = []\n",
    "for i in avg_com_per_post_other:  \n",
    "    swap_avg_by_hour_other.append([i[1],i[0]])\n",
    "swap_avg_by_hour_other.sort(reverse = True)\n",
    "for i in swap_avg_by_hour_other:\n",
    "    avg_comments_per_post_other_1 = i[0]\n",
    "    avg_comments_per_post_other = \"{:.2f}\".format(avg_comments_per_post_other_1)\n",
    "    i[0] = avg_comments_per_post_other\n",
    "print('')\n",
    "print('Other posts - Top 5 times to post are:')\n",
    "print(swap_avg_by_hour_other[0:5])"
   ]
  },
  {
   "cell_type": "markdown",
   "metadata": {},
   "source": [
    "### Insight\n",
    "This shows that the most active hours to receive replies for Ask HN post is around 3pm\n",
    "\n",
    "This would be the optimal time to post as looking at the top 5, both 3pm and 4pm are listed as the hours with one of the highest average comment per post by hour so even if no comment occurs at 3pm, there is a fairly high chance of receiving a reply at 4pm.\n",
    "\n",
    "The second best option would be to post at 8pm as same logic as above applies, the subsequent hour period (9pm) also has a fairly high chance of receiving a comment.\n",
    "\n",
    "For show posts, the posts that received the most comments on average are the posts which are posted in the hour after 6pm. However there seems to be no pattern between the hour the post is posted and the average number of comment received. For show posts, posting during the hour after 6pm or at 12am tend to on average net the most amounts of comments.\n",
    "\n",
    "For other posts, the hours from 11-3pm is the best times to receive the most amounts of comments. The difference in averages from the hours after 1pm, 12pm, 11pm and 3pm do not vary by much. Even the hour after 2pm only on average receiving 2 extra posts compared to the rest of the top 5. \n",
    "\n",
    "So overall, as long as the post is not a show post, the best time would be to post around 3pm.\n",
    "\n",
    "# Points\n",
    "## Which type of post on average performs better? \n",
    "I will be using the same stages as above to analyse another measure of interaction (points)"
   ]
  },
  {
   "cell_type": "code",
   "execution_count": 13,
   "metadata": {},
   "outputs": [
    {
     "name": "stdout",
     "output_type": "stream",
     "text": [
      "Average number of ask posts is 15.061926605504587\n",
      "Average number of show posts is 27.555077452667813\n",
      "Average number of other posts is 55.4067698034198\n"
     ]
    }
   ],
   "source": [
    "total_ask_points = 0\n",
    "for i in ask_posts:\n",
    "    num_points_ask = int(i[3])\n",
    "    total_ask_points += num_points_ask\n",
    "    \n",
    "avg_total_ask_points = total_ask_points/(len(ask_posts))\n",
    "print('Average number of ask posts is ' + str(avg_total_ask_points))\n",
    "\n",
    "total_show_points = 0\n",
    "for i in show_posts:\n",
    "    num_points_show = int(i[3])\n",
    "    total_show_points += num_points_show\n",
    "    \n",
    "avg_total_show_points = total_show_points/(len(show_posts))\n",
    "print('Average number of show posts is ' + str(avg_total_show_points))\n",
    "\n",
    "total_other_points = 0\n",
    "for i in other_posts:\n",
    "    num_points_other = int(i[3])\n",
    "    total_other_points += num_points_other\n",
    "    \n",
    "avg_total_other_points = total_other_points/(len(other_posts))\n",
    "print('Average number of other posts is ' + str(avg_total_other_points))"
   ]
  },
  {
   "cell_type": "markdown",
   "metadata": {},
   "source": [
    "### Insight\n",
    "As previously stated, show posts are more likely to be content such as memes that the user wants share with other users. \n",
    "\n",
    "Due to the nature of show posts, posts such as memes tend to generate more likes than comments. This is proven by the averages shown above. \n",
    "\n",
    "As shown show posts generate more likes on average compared to ask posts. \n",
    "\n",
    "Other posts vastly out done the other two types of posts, generating an average of 55 likes per post. As suggested before, this might be due to the fact a certain popular category is skewing the average.\n",
    "\n",
    "### Average points per post by the hour\n",
    "I will not show any results and will go straight to the desired output as it is essentially the same code as above"
   ]
  },
  {
   "cell_type": "code",
   "execution_count": 14,
   "metadata": {},
   "outputs": [],
   "source": [
    "count_by_points_ask = {}\n",
    "for i in ask_posts:\n",
    "    created_at_ask_1 = i[6]\n",
    "    num_points_ask = int(i[3])\n",
    "    created_at_ask_1 = dt.datetime.strptime(created_at_ask_1, \"%m/%d/%Y %H:%M\")\n",
    "    ask_hour_1 = dt.datetime.strftime(created_at_ask_1, \"%H:00\")\n",
    "    if ask_hour_1 in count_by_points_ask:\n",
    "        count_by_points_ask[ask_hour_1] += num_points_ask\n",
    "    else:\n",
    "        count_by_points_ask[ask_hour_1] = num_points_ask\n",
    "\n",
    "count_by_points_show = {}\n",
    "for i in show_posts:\n",
    "    created_at_show_1 = i[6]\n",
    "    num_points_show = int(i[3])\n",
    "    created_at_show_1 = dt.datetime.strptime(created_at_show_1, \"%m/%d/%Y %H:%M\")\n",
    "    show_hour_1 = dt.datetime.strftime(created_at_show_1, \"%H:00\")\n",
    "    if show_hour_1 in count_by_points_show:\n",
    "        count_by_points_show[show_hour_1] += num_points_show\n",
    "    else:\n",
    "        count_by_points_show[show_hour_1] = num_points_show\n",
    "        \n",
    "count_by_points_other = {}\n",
    "for i in other_posts:\n",
    "    created_at_other_1 = i[6]\n",
    "    num_points_other = int(i[3])\n",
    "    created_at_other_1 = dt.datetime.strptime(created_at_other_1, \"%m/%d/%Y %H:%M\")\n",
    "    other_hour_1 = dt.datetime.strftime(created_at_other_1, \"%H:00\")\n",
    "    if other_hour_1 in count_by_points_other:\n",
    "        count_by_points_other[other_hour_1] += num_points_other\n",
    "    else:\n",
    "        count_by_points_other[other_hour_1] = num_points_other"
   ]
  },
  {
   "cell_type": "code",
   "execution_count": 15,
   "metadata": {},
   "outputs": [],
   "source": [
    "avg_points_by_hour_ask = []\n",
    "for i in count_by_points_ask:\n",
    "    num_points_ask_1 = count_by_points_ask[i]\n",
    "    num_posts_ask_1 = counts_by_hour_ask[i]\n",
    "    avg_points_ask = num_points_ask_1/num_posts_ask_1\n",
    "    avg_points_by_hour_ask.append([float(\"{:.2f}\".format(avg_points_ask)), i])\n",
    "\n",
    "avg_points_by_hour_show = []\n",
    "for i in count_by_points_show:\n",
    "    num_points_show_1 = count_by_points_show[i]\n",
    "    num_posts_show_1 = counts_by_hour_show[i]\n",
    "    avg_points_show = num_points_show_1/num_posts_show_1\n",
    "    avg_points_by_hour_show.append([float(\"{:.2f}\".format(avg_points_show)), i])\n",
    "                                   \n",
    "avg_points_by_hour_other = []\n",
    "for i in count_by_points_other:\n",
    "    num_points_other_1 = count_by_points_other[i]\n",
    "    num_posts_other_1 = counts_by_hour_other[i]\n",
    "    avg_points_other = num_points_other_1/num_posts_other_1\n",
    "    avg_points_by_hour_other.append([float(\"{:.2f}\".format(avg_points_other)), i])"
   ]
  },
  {
   "cell_type": "code",
   "execution_count": 16,
   "metadata": {},
   "outputs": [
    {
     "name": "stdout",
     "output_type": "stream",
     "text": [
      "Average points by hour for ask posts\n",
      "[[7.31, '09:00'], [24.26, '13:00'], [18.68, '10:00'], [11.98, '14:00'], [23.35, '16:00'], [8.54, '23:00'], [10.71, '12:00'], [19.41, '17:00'], [29.99, '15:00'], [15.79, '21:00'], [14.39, '20:00'], [13.67, '02:00'], [15.97, '18:00'], [6.93, '03:00'], [12.0, '05:00'], [13.75, '19:00'], [11.67, '01:00'], [7.2, '22:00'], [10.73, '08:00'], [8.28, '04:00'], [8.2, '00:00'], [13.43, '06:00'], [10.62, '07:00'], [14.22, '11:00']]\n",
      "\n",
      "Average points by hour for show posts\n",
      "[[25.43, '14:00'], [40.35, '22:00'], [36.31, '18:00'], [19.0, '07:00'], [30.32, '20:00'], [5.47, '05:00'], [28.32, '16:00'], [30.95, '19:00'], [28.56, '15:00'], [25.15, '03:00'], [27.11, '17:00'], [23.44, '06:00'], [11.33, '02:00'], [24.63, '13:00'], [15.26, '08:00'], [18.43, '21:00'], [14.85, '04:00'], [33.64, '11:00'], [41.69, '12:00'], [42.39, '23:00'], [18.43, '09:00'], [25.0, '01:00'], [18.92, '10:00'], [37.84, '00:00']]\n",
      "\n",
      "Average points by hour for other posts\n",
      "[[57.57, '11:00'], [60.01, '19:00'], [50.24, '22:00'], [58.46, '00:00'], [49.67, '04:00'], [53.94, '09:00'], [54.18, '16:00'], [53.93, '18:00'], [60.48, '10:00'], [57.4, '12:00'], [45.24, '20:00'], [56.92, '03:00'], [57.98, '17:00'], [61.79, '14:00'], [62.53, '13:00'], [50.61, '01:00'], [52.03, '23:00'], [54.09, '08:00'], [58.47, '02:00'], [49.37, '21:00'], [60.54, '15:00'], [46.24, '06:00'], [49.97, '05:00'], [56.83, '07:00']]\n"
     ]
    }
   ],
   "source": [
    "print('Average points by hour for ask posts')\n",
    "print(avg_points_by_hour_ask)\n",
    "print('')\n",
    "print('Average points by hour for show posts')\n",
    "print(avg_points_by_hour_show)\n",
    "print('')\n",
    "print('Average points by hour for other posts')\n",
    "print(avg_points_by_hour_other)"
   ]
  },
  {
   "cell_type": "code",
   "execution_count": 17,
   "metadata": {},
   "outputs": [],
   "source": [
    "avg_points_by_hour_ask.sort(reverse = True)\n",
    "avg_points_by_hour_show.sort(reverse = True)\n",
    "avg_points_by_hour_other.sort(reverse = True)"
   ]
  },
  {
   "cell_type": "code",
   "execution_count": 18,
   "metadata": {},
   "outputs": [
    {
     "name": "stdout",
     "output_type": "stream",
     "text": [
      "Top 5 average points by hour for ask posts\n",
      "[[29.99, '15:00'], [24.26, '13:00'], [23.35, '16:00'], [19.41, '17:00'], [18.68, '10:00']]\n",
      "\n",
      "Top 5 average points by hour for show posts\n",
      "[[42.39, '23:00'], [41.69, '12:00'], [40.35, '22:00'], [37.84, '00:00'], [36.31, '18:00']]\n",
      "\n",
      "Top 5 average points by hour for other posts\n",
      "[[62.53, '13:00'], [61.79, '14:00'], [60.54, '15:00'], [60.48, '10:00'], [60.01, '19:00']]\n"
     ]
    }
   ],
   "source": [
    "print('Top 5 average points by hour for ask posts')\n",
    "print(avg_points_by_hour_ask[:5])\n",
    "print('')\n",
    "print('Top 5 average points by hour for show posts')\n",
    "print(avg_points_by_hour_show[:5])\n",
    "print('')\n",
    "print('Top 5 average points by hour for other posts')\n",
    "print(avg_points_by_hour_other[:5])"
   ]
  },
  {
   "cell_type": "markdown",
   "metadata": {},
   "source": [
    "### Insight\n",
    "The times with most points by hour posted is again 3pm with 4pm closely following behind. For ask posts, it seems to be the best to post at 3pm as it, on average, achieves both most amount of comments and likes.\n",
    "\n",
    "For show posts, it seems to be better to post around 11pm/12am. Previously we showed that the averages for comments on show posts was very close for 6pm and 12am. Now however the difference posting at 12am seems to net a larger amount of likes (this difference is negligible) compared to 6pm. It seems to be optimal to post at 12am to gain the most amounts of like.\n",
    "\n",
    "For other posts, it exhibited the same pattern as the top 5 comment by hour. The differences amongst the top 5 is very small (a maximum of 2 likes). However previously, we showed that it is optimal to post between 11am-3pm as it on average obtains the most comments. However this data shows a more narrow window of posting between 1pm-3pm to optimise the number of likes."
   ]
  },
  {
   "cell_type": "markdown",
   "metadata": {},
   "source": [
    "# Conclusion\n",
    "To conclude, I will write a short few sentences on what I think are the optimal times to post certain posts.\n",
    "\n",
    "For ask posts it seems to be that the optimal time to post would be at 3pm as it obtains the most amount of likes and comments.\n",
    "\n",
    "For show posts, the optimal time to post would be around 12am. However if the poster wants to maximise likes alone, the poster should post it around 11pm instead. To maximise comments its optimal to post at 6pm even tho the difference between 12am and 6pm is negligible.\n",
    "\n",
    "For other types of posts, it is optimal to post within the time frame 1pm-3pm to reach the largest interaction (likes and comments). The differences between the hours are negligible however posting at 1pm/2pm is slightly better than 3pm."
   ]
  },
  {
   "cell_type": "code",
   "execution_count": null,
   "metadata": {},
   "outputs": [],
   "source": []
  }
 ],
 "metadata": {
  "kernelspec": {
   "display_name": "Python 3",
   "language": "python",
   "name": "python3"
  },
  "language_info": {
   "codemirror_mode": {
    "name": "ipython",
    "version": 3
   },
   "file_extension": ".py",
   "mimetype": "text/x-python",
   "name": "python",
   "nbconvert_exporter": "python",
   "pygments_lexer": "ipython3",
   "version": "3.8.2"
  }
 },
 "nbformat": 4,
 "nbformat_minor": 2
}
