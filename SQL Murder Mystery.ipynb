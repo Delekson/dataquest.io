{
 "cells": [
  {
   "cell_type": "markdown",
   "id": "a7b6d8b9",
   "metadata": {},
   "source": [
    "# SQL Murder Mystery\n",
    "This is a challenge I found on the internet that I have attempted.\n",
    "\n",
    "It involves using SQL to follow the trail and find the murderer.\n",
    "\n",
    "The link to the challenge is below\n",
    "\n",
    "https://github.com/NUKnightLab/sql-mysteries\n",
    "\n",
    "https://mystery.knightlab.com/#experienced"
   ]
  },
  {
   "cell_type": "code",
   "execution_count": 1,
   "id": "ff2f4161",
   "metadata": {},
   "outputs": [],
   "source": [
    "%load_ext sql"
   ]
  },
  {
   "cell_type": "code",
   "execution_count": 2,
   "id": "7ae7f565",
   "metadata": {},
   "outputs": [],
   "source": [
    "#Create connection to database file\n",
    "%sql sqlite:///murder_mystery.db"
   ]
  },
  {
   "cell_type": "code",
   "execution_count": 3,
   "id": "4c28a8f7",
   "metadata": {},
   "outputs": [
    {
     "name": "stdout",
     "output_type": "stream",
     "text": [
      " * sqlite:///murder_mystery.db\n",
      "Done.\n"
     ]
    },
    {
     "data": {
      "text/html": [
       "<table>\n",
       "    <tr>\n",
       "        <th>name</th>\n",
       "        <th>sql</th>\n",
       "    </tr>\n",
       "    <tr>\n",
       "        <td>crime_scene_report</td>\n",
       "        <td>CREATE TABLE crime_scene_report (<br>        date integer,<br>        type text,<br>        description text,<br>        city text<br>    )</td>\n",
       "    </tr>\n",
       "    <tr>\n",
       "        <td>drivers_license</td>\n",
       "        <td>CREATE TABLE drivers_license (<br>        id integer PRIMARY KEY,<br>        age integer,<br>        height integer,<br>        eye_color text,<br>        hair_color text,<br>        gender text,<br>        plate_number text,<br>        car_make text,<br>        car_model text<br>    )</td>\n",
       "    </tr>\n",
       "    <tr>\n",
       "        <td>person</td>\n",
       "        <td>CREATE TABLE person (<br>        id integer PRIMARY KEY,<br>        name text,<br>        license_id integer,<br>        address_number integer,<br>        address_street_name text,<br>        ssn integer,<br>        FOREIGN KEY (license_id) REFERENCES drivers_license(id)<br>    )</td>\n",
       "    </tr>\n",
       "    <tr>\n",
       "        <td>facebook_event_checkin</td>\n",
       "        <td>CREATE TABLE facebook_event_checkin (<br>        person_id integer,<br>        event_id integer,<br>        event_name text,<br>        date integer,<br>        FOREIGN KEY (person_id) REFERENCES person(id)<br>    )</td>\n",
       "    </tr>\n",
       "    <tr>\n",
       "        <td>interview</td>\n",
       "        <td>CREATE TABLE interview (<br>        person_id integer,<br>        transcript text,<br>        FOREIGN KEY (person_id) REFERENCES person(id)<br>    )</td>\n",
       "    </tr>\n",
       "    <tr>\n",
       "        <td>get_fit_now_member</td>\n",
       "        <td>CREATE TABLE get_fit_now_member (<br>        id text PRIMARY KEY,<br>        person_id integer,<br>        name text,<br>        membership_start_date integer,<br>        membership_status text,<br>        FOREIGN KEY (person_id) REFERENCES person(id)<br>    )</td>\n",
       "    </tr>\n",
       "    <tr>\n",
       "        <td>get_fit_now_check_in</td>\n",
       "        <td>CREATE TABLE get_fit_now_check_in (<br>        membership_id text,<br>        check_in_date integer,<br>        check_in_time integer,<br>        check_out_time integer,<br>        FOREIGN KEY (membership_id) REFERENCES get_fit_now_member(id)<br>    )</td>\n",
       "    </tr>\n",
       "    <tr>\n",
       "        <td>income</td>\n",
       "        <td>CREATE TABLE income (<br>        ssn integer PRIMARY KEY,<br>        annual_income integer<br>    )</td>\n",
       "    </tr>\n",
       "    <tr>\n",
       "        <td>solution</td>\n",
       "        <td>CREATE TABLE solution (<br>        user integer,<br>        value text<br>    )</td>\n",
       "    </tr>\n",
       "</table>"
      ],
      "text/plain": [
       "[('crime_scene_report', 'CREATE TABLE crime_scene_report (\\n        date integer,\\n        type text,\\n        description text,\\n        city text\\n    )'),\n",
       " ('drivers_license', 'CREATE TABLE drivers_license (\\n        id integer PRIMARY KEY,\\n        age integer,\\n        height integer,\\n        eye_color text,\\n        hair_color text,\\n        gender text,\\n        plate_number text,\\n        car_make text,\\n        car_model text\\n    )'),\n",
       " ('person', 'CREATE TABLE person (\\n        id integer PRIMARY KEY,\\n        name text,\\n        license_id integer,\\n        address_number integer,\\n        address_street_name text,\\n        ssn integer,\\n        FOREIGN KEY (license_id) REFERENCES drivers_license(id)\\n    )'),\n",
       " ('facebook_event_checkin', 'CREATE TABLE facebook_event_checkin (\\n        person_id integer,\\n        event_id integer,\\n        event_name text,\\n        date integer,\\n        FOREIGN KEY (person_id) REFERENCES person(id)\\n    )'),\n",
       " ('interview', 'CREATE TABLE interview (\\n        person_id integer,\\n        transcript text,\\n        FOREIGN KEY (person_id) REFERENCES person(id)\\n    )'),\n",
       " ('get_fit_now_member', 'CREATE TABLE get_fit_now_member (\\n        id text PRIMARY KEY,\\n        person_id integer,\\n        name text,\\n        membership_start_date integer,\\n        membership_status text,\\n        FOREIGN KEY (person_id) REFERENCES person(id)\\n    )'),\n",
       " ('get_fit_now_check_in', 'CREATE TABLE get_fit_now_check_in (\\n        membership_id text,\\n        check_in_date integer,\\n        check_in_time integer,\\n        check_out_time integer,\\n        FOREIGN KEY (membership_id) REFERENCES get_fit_now_member(id)\\n    )'),\n",
       " ('income', 'CREATE TABLE income (\\n        ssn integer PRIMARY KEY,\\n        annual_income integer\\n    )'),\n",
       " ('solution', 'CREATE TABLE solution (\\n        user integer,\\n        value text\\n    )')]"
      ]
     },
     "execution_count": 3,
     "metadata": {},
     "output_type": "execute_result"
    }
   ],
   "source": [
    "%%sql\n",
    "SELECT name, sql\n",
    "  FROM sqlite_master\n",
    " WHERE type == 'table';"
   ]
  },
  {
   "cell_type": "markdown",
   "id": "d3600581",
   "metadata": {},
   "source": [
    "A crime has taken place and the detective needs your help. The detective gave you the crime scene report, but you somehow lost it. You vaguely remember that the crime was a ​murder​ that occurred sometime on ​Jan.15, 2018​ and that it took place in ​SQL City​. Start by retrieving the corresponding crime scene report from the police department’s database."
   ]
  },
  {
   "cell_type": "code",
   "execution_count": 4,
   "id": "d31cfb7b",
   "metadata": {},
   "outputs": [
    {
     "name": "stdout",
     "output_type": "stream",
     "text": [
      " * sqlite:///murder_mystery.db\n",
      "Done.\n"
     ]
    },
    {
     "data": {
      "text/html": [
       "<table>\n",
       "    <tr>\n",
       "        <th>date</th>\n",
       "        <th>type</th>\n",
       "        <th>description</th>\n",
       "        <th>city</th>\n",
       "    </tr>\n",
       "    <tr>\n",
       "        <td>20180115</td>\n",
       "        <td>murder</td>\n",
       "        <td>Security footage shows that there were 2 witnesses. The first witness lives at the last house on &quot;Northwestern Dr&quot;. The second witness, named Annabel, lives somewhere on &quot;Franklin Ave&quot;.</td>\n",
       "        <td>SQL City</td>\n",
       "    </tr>\n",
       "</table>"
      ],
      "text/plain": [
       "[(20180115, 'murder', 'Security footage shows that there were 2 witnesses. The first witness lives at the last house on \"Northwestern Dr\". The second witness, named Annabel, lives somewhere on \"Franklin Ave\".', 'SQL City')]"
      ]
     },
     "execution_count": 4,
     "metadata": {},
     "output_type": "execute_result"
    }
   ],
   "source": [
    "%%sql\n",
    "SELECT *\n",
    "  FROM crime_scene_report\n",
    " WHERE (type == 'murder') & (city == 'SQL City') & (date == 20180115);"
   ]
  },
  {
   "cell_type": "markdown",
   "id": "d5bec660",
   "metadata": {},
   "source": [
    "So this is the crime scene report we were after.\n",
    "There are two witnesses at the crime scene.\n",
    "\n",
    "First person:"
   ]
  },
  {
   "cell_type": "code",
   "execution_count": 5,
   "id": "5c90db35",
   "metadata": {},
   "outputs": [
    {
     "name": "stdout",
     "output_type": "stream",
     "text": [
      " * sqlite:///murder_mystery.db\n",
      "Done.\n"
     ]
    },
    {
     "data": {
      "text/html": [
       "<table>\n",
       "    <tr>\n",
       "        <th>id</th>\n",
       "        <th>name</th>\n",
       "        <th>license_id</th>\n",
       "        <th>address_number</th>\n",
       "        <th>address_street_name</th>\n",
       "        <th>ssn</th>\n",
       "    </tr>\n",
       "    <tr>\n",
       "        <td>14887</td>\n",
       "        <td>Morty Schapiro</td>\n",
       "        <td>118009</td>\n",
       "        <td>4919</td>\n",
       "        <td>Northwestern Dr</td>\n",
       "        <td>111564949</td>\n",
       "    </tr>\n",
       "</table>"
      ],
      "text/plain": [
       "[(14887, 'Morty Schapiro', 118009, 4919, 'Northwestern Dr', 111564949)]"
      ]
     },
     "execution_count": 5,
     "metadata": {},
     "output_type": "execute_result"
    }
   ],
   "source": [
    "%%sql\n",
    "  SELECT *\n",
    "    FROM person\n",
    "   WHERE address_street_name == 'Northwestern Dr'\n",
    "ORDER BY address_number desc\n",
    "   LIMIT 1;"
   ]
  },
  {
   "cell_type": "markdown",
   "id": "7cc10b90",
   "metadata": {},
   "source": [
    "Second person:"
   ]
  },
  {
   "cell_type": "code",
   "execution_count": 6,
   "id": "2c426334",
   "metadata": {},
   "outputs": [
    {
     "name": "stdout",
     "output_type": "stream",
     "text": [
      " * sqlite:///murder_mystery.db\n",
      "Done.\n"
     ]
    },
    {
     "data": {
      "text/html": [
       "<table>\n",
       "    <tr>\n",
       "        <th>id</th>\n",
       "        <th>name</th>\n",
       "        <th>license_id</th>\n",
       "        <th>address_number</th>\n",
       "        <th>address_street_name</th>\n",
       "        <th>ssn</th>\n",
       "    </tr>\n",
       "    <tr>\n",
       "        <td>16371</td>\n",
       "        <td>Annabel Miller</td>\n",
       "        <td>490173</td>\n",
       "        <td>103</td>\n",
       "        <td>Franklin Ave</td>\n",
       "        <td>318771143</td>\n",
       "    </tr>\n",
       "</table>"
      ],
      "text/plain": [
       "[(16371, 'Annabel Miller', 490173, 103, 'Franklin Ave', 318771143)]"
      ]
     },
     "execution_count": 6,
     "metadata": {},
     "output_type": "execute_result"
    }
   ],
   "source": [
    "%%sql\n",
    "SELECT *\n",
    "  FROM person\n",
    " WHERE (address_street_name == 'Franklin Ave') & (name LIKE '%Annabel%');"
   ]
  },
  {
   "cell_type": "markdown",
   "id": "6d2dcabb",
   "metadata": {},
   "source": [
    "Now I want to have a look at their interviews and see what they said in their transcript"
   ]
  },
  {
   "cell_type": "code",
   "execution_count": 7,
   "id": "82523c9a",
   "metadata": {},
   "outputs": [
    {
     "name": "stdout",
     "output_type": "stream",
     "text": [
      " * sqlite:///murder_mystery.db\n",
      "Done.\n"
     ]
    },
    {
     "data": {
      "text/html": [
       "<table>\n",
       "    <tr>\n",
       "        <th>id</th>\n",
       "        <th>name</th>\n",
       "        <th>transcript</th>\n",
       "    </tr>\n",
       "    <tr>\n",
       "        <td>14887</td>\n",
       "        <td>Morty Schapiro</td>\n",
       "        <td>I heard a gunshot and then saw a man run out. He had a &quot;Get Fit Now Gym&quot; bag. The membership number on the bag started with &quot;48Z&quot;. Only gold members have those bags. The man got into a car with a plate that included &quot;H42W&quot;.</td>\n",
       "    </tr>\n",
       "    <tr>\n",
       "        <td>16371</td>\n",
       "        <td>Annabel Miller</td>\n",
       "        <td>I saw the murder happen, and I recognized the killer from my gym when I was working out last week on January the 9th.</td>\n",
       "    </tr>\n",
       "</table>"
      ],
      "text/plain": [
       "[(14887, 'Morty Schapiro', 'I heard a gunshot and then saw a man run out. He had a \"Get Fit Now Gym\" bag. The membership number on the bag started with \"48Z\". Only gold members have those bags. The man got into a car with a plate that included \"H42W\".'),\n",
       " (16371, 'Annabel Miller', 'I saw the murder happen, and I recognized the killer from my gym when I was working out last week on January the 9th.')]"
      ]
     },
     "execution_count": 7,
     "metadata": {},
     "output_type": "execute_result"
    }
   ],
   "source": [
    "%%sql\n",
    "SELECT p.id, p.name, i.transcript\n",
    "  FROM person as p\n",
    "  JOIN interview as i\n",
    "    ON p.id = i.person_id\n",
    " WHERE p.id == 14887 OR p.id == 16371;"
   ]
  },
  {
   "cell_type": "markdown",
   "id": "a54ddf29",
   "metadata": {},
   "source": [
    "Key takeaway is:\n",
    "* Membership number started with '48Z'\n",
    "* Car number plate had 'H24W'\n",
    "* Bag belongs to gold members\n",
    "* Murderer goes to gym (last seen Jan 9th 2018 by Annabel)\n",
    "\n",
    "So murderer `get_fit_now_check_in.check_in_date` = 20180109\n",
    "\n",
    "Somehow related to `get_fit_now_member.id` = 48Z%\n",
    "\n",
    "Somehow related to `drivers_licence.plate_number` = %H42W%\n",
    "\n",
    "I want to start with who the car belongs to."
   ]
  },
  {
   "cell_type": "code",
   "execution_count": 8,
   "id": "eafd692b",
   "metadata": {},
   "outputs": [
    {
     "name": "stdout",
     "output_type": "stream",
     "text": [
      " * sqlite:///murder_mystery.db\n",
      "Done.\n"
     ]
    },
    {
     "data": {
      "text/html": [
       "<table>\n",
       "    <tr>\n",
       "        <th>id</th>\n",
       "        <th>name</th>\n",
       "        <th>plate_number</th>\n",
       "    </tr>\n",
       "    <tr>\n",
       "        <td>51739</td>\n",
       "        <td>Tushar Chandra</td>\n",
       "        <td>4H42WR</td>\n",
       "    </tr>\n",
       "    <tr>\n",
       "        <td>67318</td>\n",
       "        <td>Jeremy Bowers</td>\n",
       "        <td>0H42W2</td>\n",
       "    </tr>\n",
       "    <tr>\n",
       "        <td>78193</td>\n",
       "        <td>Maxine Whitely</td>\n",
       "        <td>H42W0X</td>\n",
       "    </tr>\n",
       "</table>"
      ],
      "text/plain": [
       "[(51739, 'Tushar Chandra', '4H42WR'),\n",
       " (67318, 'Jeremy Bowers', '0H42W2'),\n",
       " (78193, 'Maxine Whitely', 'H42W0X')]"
      ]
     },
     "execution_count": 8,
     "metadata": {},
     "output_type": "execute_result"
    }
   ],
   "source": [
    "%%sql\n",
    "SELECT p.id, p.name, d.plate_number\n",
    "  FROM person as p\n",
    "  JOIN drivers_license as d\n",
    "    ON p.license_id = d.id\n",
    " WHERE d.plate_number LIKE '%H42W%';"
   ]
  },
  {
   "cell_type": "markdown",
   "id": "757aeed2",
   "metadata": {},
   "source": [
    "Now I want a list of members whos membership id starts with 48Z"
   ]
  },
  {
   "cell_type": "code",
   "execution_count": 9,
   "id": "4250d482",
   "metadata": {},
   "outputs": [
    {
     "name": "stdout",
     "output_type": "stream",
     "text": [
      " * sqlite:///murder_mystery.db\n",
      "Done.\n"
     ]
    },
    {
     "data": {
      "text/html": [
       "<table>\n",
       "    <tr>\n",
       "        <th>id</th>\n",
       "        <th>name</th>\n",
       "        <th>membership_id</th>\n",
       "    </tr>\n",
       "    <tr>\n",
       "        <td>49550</td>\n",
       "        <td>Tomas Baisley</td>\n",
       "        <td>48Z38</td>\n",
       "    </tr>\n",
       "    <tr>\n",
       "        <td>28819</td>\n",
       "        <td>Joe Germuska</td>\n",
       "        <td>48Z7A</td>\n",
       "    </tr>\n",
       "    <tr>\n",
       "        <td>67318</td>\n",
       "        <td>Jeremy Bowers</td>\n",
       "        <td>48Z55</td>\n",
       "    </tr>\n",
       "</table>"
      ],
      "text/plain": [
       "[(49550, 'Tomas Baisley', '48Z38'),\n",
       " (28819, 'Joe Germuska', '48Z7A'),\n",
       " (67318, 'Jeremy Bowers', '48Z55')]"
      ]
     },
     "execution_count": 9,
     "metadata": {},
     "output_type": "execute_result"
    }
   ],
   "source": [
    "%%sql\n",
    "SELECT p.id, p.name, gfn.id as membership_id\n",
    "  FROM person as p\n",
    "  JOIN get_fit_now_member as gfn\n",
    "    ON p.id = gfn.person_id\n",
    " WHERE gfn.id LIKE '48Z%';"
   ]
  },
  {
   "cell_type": "markdown",
   "id": "c04ead12",
   "metadata": {},
   "source": [
    "I will have a look at who entered the gym on the date 9th Jan 2018"
   ]
  },
  {
   "cell_type": "code",
   "execution_count": 10,
   "id": "4b60df6c",
   "metadata": {},
   "outputs": [
    {
     "name": "stdout",
     "output_type": "stream",
     "text": [
      " * sqlite:///murder_mystery.db\n",
      "Done.\n"
     ]
    },
    {
     "data": {
      "text/html": [
       "<table>\n",
       "    <tr>\n",
       "        <th>id</th>\n",
       "        <th>name</th>\n",
       "        <th>membership_id</th>\n",
       "        <th>check_in_date</th>\n",
       "        <th>check_in_time</th>\n",
       "        <th>check_out_time</th>\n",
       "    </tr>\n",
       "    <tr>\n",
       "        <td>15247</td>\n",
       "        <td>Shondra Ledlow</td>\n",
       "        <td>X0643</td>\n",
       "        <td>20180109</td>\n",
       "        <td>957</td>\n",
       "        <td>1164</td>\n",
       "    </tr>\n",
       "    <tr>\n",
       "        <td>28073</td>\n",
       "        <td>Zackary Cabotage</td>\n",
       "        <td>UK1F2</td>\n",
       "        <td>20180109</td>\n",
       "        <td>344</td>\n",
       "        <td>518</td>\n",
       "    </tr>\n",
       "    <tr>\n",
       "        <td>55662</td>\n",
       "        <td>Sarita Bartosh</td>\n",
       "        <td>XTE42</td>\n",
       "        <td>20180109</td>\n",
       "        <td>486</td>\n",
       "        <td>1124</td>\n",
       "    </tr>\n",
       "    <tr>\n",
       "        <td>10815</td>\n",
       "        <td>Adriane Pelligra</td>\n",
       "        <td>1AE2H</td>\n",
       "        <td>20180109</td>\n",
       "        <td>461</td>\n",
       "        <td>944</td>\n",
       "    </tr>\n",
       "    <tr>\n",
       "        <td>83186</td>\n",
       "        <td>Burton Grippe</td>\n",
       "        <td>6LSTG</td>\n",
       "        <td>20180109</td>\n",
       "        <td>399</td>\n",
       "        <td>515</td>\n",
       "    </tr>\n",
       "    <tr>\n",
       "        <td>31523</td>\n",
       "        <td>Blossom Crescenzo</td>\n",
       "        <td>7MWHJ</td>\n",
       "        <td>20180109</td>\n",
       "        <td>273</td>\n",
       "        <td>885</td>\n",
       "    </tr>\n",
       "    <tr>\n",
       "        <td>92736</td>\n",
       "        <td>Carmen Dimick</td>\n",
       "        <td>GE5Q8</td>\n",
       "        <td>20180109</td>\n",
       "        <td>367</td>\n",
       "        <td>959</td>\n",
       "    </tr>\n",
       "    <tr>\n",
       "        <td>28819</td>\n",
       "        <td>Joe Germuska</td>\n",
       "        <td>48Z7A</td>\n",
       "        <td>20180109</td>\n",
       "        <td>1600</td>\n",
       "        <td>1730</td>\n",
       "    </tr>\n",
       "    <tr>\n",
       "        <td>67318</td>\n",
       "        <td>Jeremy Bowers</td>\n",
       "        <td>48Z55</td>\n",
       "        <td>20180109</td>\n",
       "        <td>1530</td>\n",
       "        <td>1700</td>\n",
       "    </tr>\n",
       "    <tr>\n",
       "        <td>16371</td>\n",
       "        <td>Annabel Miller</td>\n",
       "        <td>90081</td>\n",
       "        <td>20180109</td>\n",
       "        <td>1600</td>\n",
       "        <td>1700</td>\n",
       "    </tr>\n",
       "</table>"
      ],
      "text/plain": [
       "[(15247, 'Shondra Ledlow', 'X0643', 20180109, 957, 1164),\n",
       " (28073, 'Zackary Cabotage', 'UK1F2', 20180109, 344, 518),\n",
       " (55662, 'Sarita Bartosh', 'XTE42', 20180109, 486, 1124),\n",
       " (10815, 'Adriane Pelligra', '1AE2H', 20180109, 461, 944),\n",
       " (83186, 'Burton Grippe', '6LSTG', 20180109, 399, 515),\n",
       " (31523, 'Blossom Crescenzo', '7MWHJ', 20180109, 273, 885),\n",
       " (92736, 'Carmen Dimick', 'GE5Q8', 20180109, 367, 959),\n",
       " (28819, 'Joe Germuska', '48Z7A', 20180109, 1600, 1730),\n",
       " (67318, 'Jeremy Bowers', '48Z55', 20180109, 1530, 1700),\n",
       " (16371, 'Annabel Miller', '90081', 20180109, 1600, 1700)]"
      ]
     },
     "execution_count": 10,
     "metadata": {},
     "output_type": "execute_result"
    }
   ],
   "source": [
    "%%sql\n",
    "SELECT p.id, p.name, gfn_check_in.*\n",
    "  FROM person as p\n",
    "  JOIN get_fit_now_member as gfn ON gfn.person_id == p.id\n",
    "  JOIN get_fit_now_check_in as gfn_check_in ON gfn_check_in.membership_id == gfn.id\n",
    " WHERE (gfn_check_in.check_in_date == 20180109);"
   ]
  },
  {
   "cell_type": "code",
   "execution_count": 11,
   "id": "1a7818bc",
   "metadata": {},
   "outputs": [
    {
     "name": "stdout",
     "output_type": "stream",
     "text": [
      " * sqlite:///murder_mystery.db\n",
      "Done.\n"
     ]
    },
    {
     "data": {
      "text/html": [
       "<table>\n",
       "    <tr>\n",
       "        <th>id</th>\n",
       "        <th>name</th>\n",
       "        <th>membership_id</th>\n",
       "        <th>check_in_date</th>\n",
       "    </tr>\n",
       "    <tr>\n",
       "        <td>67318</td>\n",
       "        <td>Jeremy Bowers</td>\n",
       "        <td>48Z55</td>\n",
       "        <td>20180109</td>\n",
       "    </tr>\n",
       "</table>"
      ],
      "text/plain": [
       "[(67318, 'Jeremy Bowers', '48Z55', 20180109)]"
      ]
     },
     "execution_count": 11,
     "metadata": {},
     "output_type": "execute_result"
    }
   ],
   "source": [
    "%%sql\n",
    "SELECT p.id, p.name, gfn_check_in.membership_id, gfn_check_in.check_in_date\n",
    "  FROM person as p\n",
    "  JOIN get_fit_now_member as gfn ON gfn.person_id == p.id\n",
    "  JOIN get_fit_now_check_in as gfn_check_in ON gfn_check_in.membership_id == gfn.id\n",
    " WHERE (gfn_check_in.check_in_date == 20180109) \n",
    "   AND (p.name IN (SELECT c.name\n",
    "                     FROM person as c\n",
    "                     JOIN get_fit_now_member as gfn\n",
    "                       ON c.id = gfn.person_id\n",
    "                    WHERE gfn.id LIKE '48Z%'))\n",
    "   AND (p.name IN (SELECT e.name\n",
    "                     FROM person as e\n",
    "                     JOIN drivers_license as d\n",
    "                       ON e.license_id = d.id\n",
    "                    WHERE d.plate_number LIKE '%H42W%'));"
   ]
  },
  {
   "cell_type": "markdown",
   "id": "8eca0c16",
   "metadata": {},
   "source": [
    "Jeremy Bowers is a common name amongst the three clues so all the evidence points towards Jeremy Bowers being the murder"
   ]
  },
  {
   "cell_type": "code",
   "execution_count": 12,
   "id": "815bcc7b",
   "metadata": {},
   "outputs": [
    {
     "name": "stdout",
     "output_type": "stream",
     "text": [
      " * sqlite:///murder_mystery.db\n",
      "1 rows affected.\n",
      "Done.\n"
     ]
    },
    {
     "data": {
      "text/html": [
       "<table>\n",
       "    <tr>\n",
       "        <th>value</th>\n",
       "    </tr>\n",
       "    <tr>\n",
       "        <td>Congrats, you found the murderer! But wait, there&#x27;s more... If you think you&#x27;re up for a challenge, try querying the interview transcript of the murderer to find the real villain behind this crime. If you feel especially confident in your SQL skills, try to complete this final step with no more than 2 queries. Use this same INSERT statement with your new suspect to check your answer.</td>\n",
       "    </tr>\n",
       "</table>"
      ],
      "text/plain": [
       "[(\"Congrats, you found the murderer! But wait, there's more... If you think you're up for a challenge, try querying the interview transcript of the murd ... (88 characters truncated) ... r SQL skills, try to complete this final step with no more than 2 queries. Use this same INSERT statement with your new suspect to check your answer.\",)]"
      ]
     },
     "execution_count": 12,
     "metadata": {},
     "output_type": "execute_result"
    }
   ],
   "source": [
    "%%sql\n",
    "INSERT INTO solution VALUES (1, 'Jeremy Bowers');\n",
    "     SELECT value FROM solution;"
   ]
  },
  {
   "cell_type": "code",
   "execution_count": 13,
   "id": "788dbd4f",
   "metadata": {},
   "outputs": [
    {
     "name": "stdout",
     "output_type": "stream",
     "text": [
      " * sqlite:///murder_mystery.db\n",
      "Done.\n"
     ]
    },
    {
     "data": {
      "text/html": [
       "<table>\n",
       "    <tr>\n",
       "        <th>id</th>\n",
       "        <th>name</th>\n",
       "        <th>transcript</th>\n",
       "    </tr>\n",
       "    <tr>\n",
       "        <td>67318</td>\n",
       "        <td>Jeremy Bowers</td>\n",
       "        <td>I was hired by a woman with a lot of money. I don&#x27;t know her name but I know she&#x27;s around 5&#x27;5&quot; (65&quot;) or 5&#x27;7&quot; (67&quot;). She has red hair and she drives a Tesla Model S. I know that she attended the SQL Symphony Concert 3 times in December 2017.<br></td>\n",
       "    </tr>\n",
       "</table>"
      ],
      "text/plain": [
       "[(67318, 'Jeremy Bowers', 'I was hired by a woman with a lot of money. I don\\'t know her name but I know she\\'s around 5\\'5\" (65\") or 5\\'7\" (67\"). She has red hair and she drives a Tesla Model S. I know that she attended the SQL Symphony Concert 3 times in December 2017.\\n')]"
      ]
     },
     "execution_count": 13,
     "metadata": {},
     "output_type": "execute_result"
    }
   ],
   "source": [
    "%%sql\n",
    "SELECT p.id, p.name, i.transcript\n",
    "  FROM person as p\n",
    "  JOIN interview as i\n",
    "    ON p.id = i.person_id\n",
    " WHERE p.id == 67318;"
   ]
  },
  {
   "cell_type": "markdown",
   "id": "3cf12c29",
   "metadata": {},
   "source": [
    "It seems Jeremy was a hitman. \n",
    "\n",
    "The actual murderer was:\n",
    "* 5'5''/5'7'' (65''/67'')\n",
    "* Red hair\n",
    "* Drives a Tesla Model S\n",
    "* Attended SQL Symphony Concert 3 times in December 2017\n",
    "\n",
    "I am going to create a list of names for each criteria then use subqueries to see if there is any common names"
   ]
  },
  {
   "cell_type": "code",
   "execution_count": 14,
   "id": "d1d9d860",
   "metadata": {},
   "outputs": [
    {
     "name": "stdout",
     "output_type": "stream",
     "text": [
      " * sqlite:///murder_mystery.db\n",
      "Done.\n"
     ]
    },
    {
     "data": {
      "text/html": [
       "<table>\n",
       "    <tr>\n",
       "        <th>id</th>\n",
       "        <th>name</th>\n",
       "        <th>gender</th>\n",
       "        <th>height</th>\n",
       "        <th>hair_color</th>\n",
       "        <th>car_make</th>\n",
       "        <th>car_model</th>\n",
       "    </tr>\n",
       "    <tr>\n",
       "        <td>78881</td>\n",
       "        <td>Red Korb</td>\n",
       "        <td>female</td>\n",
       "        <td>65</td>\n",
       "        <td>red</td>\n",
       "        <td>Tesla</td>\n",
       "        <td>Model S</td>\n",
       "    </tr>\n",
       "    <tr>\n",
       "        <td>90700</td>\n",
       "        <td>Regina George</td>\n",
       "        <td>female</td>\n",
       "        <td>66</td>\n",
       "        <td>red</td>\n",
       "        <td>Tesla</td>\n",
       "        <td>Model S</td>\n",
       "    </tr>\n",
       "    <tr>\n",
       "        <td>99716</td>\n",
       "        <td>Miranda Priestly</td>\n",
       "        <td>female</td>\n",
       "        <td>66</td>\n",
       "        <td>red</td>\n",
       "        <td>Tesla</td>\n",
       "        <td>Model S</td>\n",
       "    </tr>\n",
       "</table>"
      ],
      "text/plain": [
       "[(78881, 'Red Korb', 'female', 65, 'red', 'Tesla', 'Model S'),\n",
       " (90700, 'Regina George', 'female', 66, 'red', 'Tesla', 'Model S'),\n",
       " (99716, 'Miranda Priestly', 'female', 66, 'red', 'Tesla', 'Model S')]"
      ]
     },
     "execution_count": 14,
     "metadata": {},
     "output_type": "execute_result"
    }
   ],
   "source": [
    "%%sql \n",
    "SELECT p.id, p.name,d.gender, d.height, d.hair_color, d.car_make, d.car_model\n",
    "  FROM person as p\n",
    "  JOIN drivers_license as d\n",
    "    ON p.license_id = d.id\n",
    " WHERE (d.height BETWEEN 65 AND 67)&(d.hair_color == 'red')&(d.car_make == 'Tesla')&(d.car_model == 'Model S');"
   ]
  },
  {
   "cell_type": "markdown",
   "id": "a7adc9ab",
   "metadata": {},
   "source": [
    "So we have 3 names here who match 3 out of 4 descriptions"
   ]
  },
  {
   "cell_type": "code",
   "execution_count": 15,
   "id": "57737907",
   "metadata": {},
   "outputs": [
    {
     "name": "stdout",
     "output_type": "stream",
     "text": [
      " * sqlite:///murder_mystery.db\n",
      "Done.\n"
     ]
    },
    {
     "data": {
      "text/html": [
       "<table>\n",
       "    <tr>\n",
       "        <th>id</th>\n",
       "        <th>name</th>\n",
       "        <th>visits</th>\n",
       "    </tr>\n",
       "    <tr>\n",
       "        <td>99716</td>\n",
       "        <td>Miranda Priestly</td>\n",
       "        <td>3</td>\n",
       "    </tr>\n",
       "    <tr>\n",
       "        <td>24556</td>\n",
       "        <td>Bryan Pardo</td>\n",
       "        <td>3</td>\n",
       "    </tr>\n",
       "    <tr>\n",
       "        <td>28582</td>\n",
       "        <td>Denyse Bloomgren</td>\n",
       "        <td>2</td>\n",
       "    </tr>\n",
       "    <tr>\n",
       "        <td>92343</td>\n",
       "        <td>Freida Betschart</td>\n",
       "        <td>1</td>\n",
       "    </tr>\n",
       "    <tr>\n",
       "        <td>81526</td>\n",
       "        <td>Odis Manteca</td>\n",
       "        <td>1</td>\n",
       "    </tr>\n",
       "</table>"
      ],
      "text/plain": [
       "[(99716, 'Miranda Priestly', 3),\n",
       " (24556, 'Bryan Pardo', 3),\n",
       " (28582, 'Denyse Bloomgren', 2),\n",
       " (92343, 'Freida Betschart', 1),\n",
       " (81526, 'Odis Manteca', 1)]"
      ]
     },
     "execution_count": 15,
     "metadata": {},
     "output_type": "execute_result"
    }
   ],
   "source": [
    "%%sql\n",
    "SELECT p.id, p.name, COUNT(e.event_name) as visits\n",
    "  FROM person as p\n",
    "  JOIN facebook_event_checkin as e\n",
    "    ON p.id = e.person_id\n",
    " WHERE e.date LIKE '201712%'\n",
    "   AND (e.event_name == 'SQL Symphony Concert')\n",
    "GROUP BY p.id\n",
    "ORDER BY visits desc\n",
    " LIMIT 5;"
   ]
  },
  {
   "cell_type": "markdown",
   "id": "2d8f82e8",
   "metadata": {},
   "source": [
    "Miranda Priestly must be the murderer as she is fits all the descriptions given by the hitman"
   ]
  },
  {
   "cell_type": "code",
   "execution_count": 16,
   "id": "04ccbc00",
   "metadata": {},
   "outputs": [
    {
     "name": "stdout",
     "output_type": "stream",
     "text": [
      " * sqlite:///murder_mystery.db\n",
      "1 rows affected.\n",
      "Done.\n"
     ]
    },
    {
     "data": {
      "text/html": [
       "<table>\n",
       "    <tr>\n",
       "        <th>value</th>\n",
       "    </tr>\n",
       "    <tr>\n",
       "        <td>Congrats, you found the brains behind the murder! Everyone in SQL City hails you as the greatest SQL detective of all time. Time to break out the champagne!</td>\n",
       "    </tr>\n",
       "</table>"
      ],
      "text/plain": [
       "[('Congrats, you found the brains behind the murder! Everyone in SQL City hails you as the greatest SQL detective of all time. Time to break out the champagne!',)]"
      ]
     },
     "execution_count": 16,
     "metadata": {},
     "output_type": "execute_result"
    }
   ],
   "source": [
    "%%sql\n",
    "INSERT INTO solution VALUES (1, 'Miranda Priestly');\n",
    "     SELECT value FROM solution;"
   ]
  },
  {
   "cell_type": "code",
   "execution_count": null,
   "id": "472bb2a9",
   "metadata": {},
   "outputs": [],
   "source": []
  }
 ],
 "metadata": {
  "kernelspec": {
   "display_name": "Python 3",
   "language": "python",
   "name": "python3"
  },
  "language_info": {
   "codemirror_mode": {
    "name": "ipython",
    "version": 3
   },
   "file_extension": ".py",
   "mimetype": "text/x-python",
   "name": "python",
   "nbconvert_exporter": "python",
   "pygments_lexer": "ipython3",
   "version": "3.8.8"
  }
 },
 "nbformat": 4,
 "nbformat_minor": 5
}
